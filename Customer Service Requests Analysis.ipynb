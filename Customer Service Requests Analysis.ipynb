{
 "cells": [
  {
   "cell_type": "code",
   "execution_count": null,
   "id": "0b3efa53",
   "metadata": {},
   "outputs": [],
   "source": [
    "import pandas as pd\n",
    "import numpy as np\n",
    "import datetime\n",
    "import matplotlib.pyplot as mpl\n",
    "import seaborn as sns\n",
    "\n",
    "nyc311=pd.read_csv(r\"C:\\Users\\ronit\\OneDrive\\Desktop\\311_Service_Requests_from_2010_to_Present.csv\")\n",
    "nyc311['Request_Closing_Time']=\"\"\n",
    "t=0\n",
    "tt=0\n",
    "for i in range(len(nyc311)):\n",
    "    a = nyc311['Created Date'][i]\n",
    "    t+=1\n",
    "    if type(a)==str:\n",
    "        b=str(a).find(\"/\")\n",
    "        if b == -1:\n",
    "            x=datetime.datetime.strptime(nyc311['Created Date'][i], \"%m-%d-%y %H:%M\")#MM-DD-YY HH:MM\n",
    "        else:\n",
    "            x=datetime.datetime.strptime(nyc311['Created Date'][i], \"%m/%d/%Y %I:%M:%S %p\")#MM/DD/YYYY hh:MM:SS AM/PM\n",
    "    c = nyc311['Closed Date'][i]\n",
    "    if type(c)==str:\n",
    "        d=str(c).find(\"/\")\n",
    "        if d == -1:\n",
    "            y=datetime.datetime.strptime(nyc311['Closed Date'][i], \"%m-%d-%y %H:%M\")#MM-DD-YY HH:MM\n",
    "        else:\n",
    "            y=datetime.datetime.strptime(nyc311['Closed Date'][i], \"%m/%d/%Y %I:%M:%S %p\")#MM/DD/YYYY hh:MM:SS AM/PM\n",
    "    nyc311['Request_Closing_Time'][i]=y-x\n",
    "\n",
    "# nyc311_Request_Closing_Time=nyc311['Created Date','Closed Date']\n",
    "# df_corr_ab = sns.regplot('Created Date','Closed Date', nyc311_Request_Closing_Time) \n",
    "# # df_corr_ab.set(xlim=(0, 6000), ylim=(0, 12.5))\n",
    "# # df_corr_ab.axhline(0, color='k', linestyle='-', linewidth=2)\n",
    "# # df_corr_ab.axvline(0, color='k', linestyle='-', linewidth=2)\n",
    "# # df_corr_ab.axes.set_title('Correlation: avg. rate per created date & closed date')\n",
    "# # mpl.show()\n",
    "\n",
    "# for avg in nyc311_Request_Closing_Time.columns:\n",
    "#     print(\"Column: {}\".format(avg))\n",
    "#     data = nyc311_Request_Closing_Time[:,avg]\n",
    "#     data.hist()\n",
    "#     print(\"- mean: {}\".format(data.mean()))\n",
    "#     print(\"- std: {}\".format(data.std()))\n",
    "#     mpl.show()"
   ]
  },
  {
   "cell_type": "code",
   "execution_count": null,
   "id": "c0395768",
   "metadata": {},
   "outputs": [],
   "source": [
    "nyc311.info()"
   ]
  }
 ],
 "metadata": {
  "kernelspec": {
   "display_name": "Python 3 (ipykernel)",
   "language": "python",
   "name": "python3"
  },
  "language_info": {
   "codemirror_mode": {
    "name": "ipython",
    "version": 3
   },
   "file_extension": ".py",
   "mimetype": "text/x-python",
   "name": "python",
   "nbconvert_exporter": "python",
   "pygments_lexer": "ipython3",
   "version": "3.9.7"
  }
 },
 "nbformat": 4,
 "nbformat_minor": 5
}
